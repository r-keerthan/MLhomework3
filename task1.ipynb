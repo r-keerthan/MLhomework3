{
 "cells": [
  {
   "cell_type": "code",
   "execution_count": 1,
   "id": "856c2fa8",
   "metadata": {},
   "outputs": [],
   "source": [
    "import numpy as np\n",
    "import pandas as pd\n",
    "import scipy \n",
    "import sklearn\n",
    "from collections import Counter\n",
    "from sklearn.metrics import multilabel_confusion_matrix\n",
    "from scipy import spatial"
   ]
  },
  {
   "cell_type": "code",
   "execution_count": 2,
   "id": "a5118821",
   "metadata": {},
   "outputs": [],
   "source": [
    "data = pd.read_csv(r'C:\\Users\\keert\\kmeans_data\\data.csv')\n",
    "labels = pd.read_csv(r'C:\\Users\\keert\\kmeans_data\\label.csv',names=['label'],header=None)"
   ]
  },
  {
   "cell_type": "code",
   "execution_count": 3,
   "id": "bdf72b29",
   "metadata": {},
   "outputs": [
    {
     "data": {
      "text/html": [
       "<div>\n",
       "<style scoped>\n",
       "    .dataframe tbody tr th:only-of-type {\n",
       "        vertical-align: middle;\n",
       "    }\n",
       "\n",
       "    .dataframe tbody tr th {\n",
       "        vertical-align: top;\n",
       "    }\n",
       "\n",
       "    .dataframe thead th {\n",
       "        text-align: right;\n",
       "    }\n",
       "</style>\n",
       "<table border=\"1\" class=\"dataframe\">\n",
       "  <thead>\n",
       "    <tr style=\"text-align: right;\">\n",
       "      <th></th>\n",
       "      <th>0</th>\n",
       "      <th>0.1</th>\n",
       "      <th>0.2</th>\n",
       "      <th>0.3</th>\n",
       "      <th>0.4</th>\n",
       "      <th>0.5</th>\n",
       "      <th>0.6</th>\n",
       "      <th>0.7</th>\n",
       "      <th>0.8</th>\n",
       "      <th>0.9</th>\n",
       "      <th>...</th>\n",
       "      <th>0.658</th>\n",
       "      <th>0.659</th>\n",
       "      <th>0.660</th>\n",
       "      <th>0.661</th>\n",
       "      <th>0.662</th>\n",
       "      <th>0.663</th>\n",
       "      <th>0.664</th>\n",
       "      <th>0.665</th>\n",
       "      <th>0.666</th>\n",
       "      <th>0.667</th>\n",
       "    </tr>\n",
       "  </thead>\n",
       "  <tbody>\n",
       "    <tr>\n",
       "      <th>0</th>\n",
       "      <td>0</td>\n",
       "      <td>0</td>\n",
       "      <td>0</td>\n",
       "      <td>0</td>\n",
       "      <td>0</td>\n",
       "      <td>0</td>\n",
       "      <td>0</td>\n",
       "      <td>0</td>\n",
       "      <td>0</td>\n",
       "      <td>0</td>\n",
       "      <td>...</td>\n",
       "      <td>0</td>\n",
       "      <td>0</td>\n",
       "      <td>0</td>\n",
       "      <td>0</td>\n",
       "      <td>0</td>\n",
       "      <td>0</td>\n",
       "      <td>0</td>\n",
       "      <td>0</td>\n",
       "      <td>0</td>\n",
       "      <td>0</td>\n",
       "    </tr>\n",
       "    <tr>\n",
       "      <th>1</th>\n",
       "      <td>0</td>\n",
       "      <td>0</td>\n",
       "      <td>0</td>\n",
       "      <td>0</td>\n",
       "      <td>0</td>\n",
       "      <td>0</td>\n",
       "      <td>0</td>\n",
       "      <td>0</td>\n",
       "      <td>0</td>\n",
       "      <td>0</td>\n",
       "      <td>...</td>\n",
       "      <td>0</td>\n",
       "      <td>0</td>\n",
       "      <td>0</td>\n",
       "      <td>0</td>\n",
       "      <td>0</td>\n",
       "      <td>0</td>\n",
       "      <td>0</td>\n",
       "      <td>0</td>\n",
       "      <td>0</td>\n",
       "      <td>0</td>\n",
       "    </tr>\n",
       "    <tr>\n",
       "      <th>2</th>\n",
       "      <td>0</td>\n",
       "      <td>0</td>\n",
       "      <td>0</td>\n",
       "      <td>0</td>\n",
       "      <td>0</td>\n",
       "      <td>0</td>\n",
       "      <td>0</td>\n",
       "      <td>0</td>\n",
       "      <td>0</td>\n",
       "      <td>0</td>\n",
       "      <td>...</td>\n",
       "      <td>0</td>\n",
       "      <td>0</td>\n",
       "      <td>0</td>\n",
       "      <td>0</td>\n",
       "      <td>0</td>\n",
       "      <td>0</td>\n",
       "      <td>0</td>\n",
       "      <td>0</td>\n",
       "      <td>0</td>\n",
       "      <td>0</td>\n",
       "    </tr>\n",
       "    <tr>\n",
       "      <th>3</th>\n",
       "      <td>0</td>\n",
       "      <td>0</td>\n",
       "      <td>0</td>\n",
       "      <td>0</td>\n",
       "      <td>0</td>\n",
       "      <td>0</td>\n",
       "      <td>0</td>\n",
       "      <td>0</td>\n",
       "      <td>0</td>\n",
       "      <td>0</td>\n",
       "      <td>...</td>\n",
       "      <td>0</td>\n",
       "      <td>0</td>\n",
       "      <td>0</td>\n",
       "      <td>0</td>\n",
       "      <td>0</td>\n",
       "      <td>0</td>\n",
       "      <td>0</td>\n",
       "      <td>0</td>\n",
       "      <td>0</td>\n",
       "      <td>0</td>\n",
       "    </tr>\n",
       "    <tr>\n",
       "      <th>4</th>\n",
       "      <td>0</td>\n",
       "      <td>0</td>\n",
       "      <td>0</td>\n",
       "      <td>0</td>\n",
       "      <td>0</td>\n",
       "      <td>0</td>\n",
       "      <td>0</td>\n",
       "      <td>0</td>\n",
       "      <td>0</td>\n",
       "      <td>0</td>\n",
       "      <td>...</td>\n",
       "      <td>0</td>\n",
       "      <td>0</td>\n",
       "      <td>0</td>\n",
       "      <td>0</td>\n",
       "      <td>0</td>\n",
       "      <td>0</td>\n",
       "      <td>0</td>\n",
       "      <td>0</td>\n",
       "      <td>0</td>\n",
       "      <td>0</td>\n",
       "    </tr>\n",
       "  </tbody>\n",
       "</table>\n",
       "<p>5 rows × 784 columns</p>\n",
       "</div>"
      ],
      "text/plain": [
       "   0  0.1  0.2  0.3  0.4  0.5  0.6  0.7  0.8  0.9  ...  0.658  0.659  0.660  \\\n",
       "0  0    0    0    0    0    0    0    0    0    0  ...      0      0      0   \n",
       "1  0    0    0    0    0    0    0    0    0    0  ...      0      0      0   \n",
       "2  0    0    0    0    0    0    0    0    0    0  ...      0      0      0   \n",
       "3  0    0    0    0    0    0    0    0    0    0  ...      0      0      0   \n",
       "4  0    0    0    0    0    0    0    0    0    0  ...      0      0      0   \n",
       "\n",
       "   0.661  0.662  0.663  0.664  0.665  0.666  0.667  \n",
       "0      0      0      0      0      0      0      0  \n",
       "1      0      0      0      0      0      0      0  \n",
       "2      0      0      0      0      0      0      0  \n",
       "3      0      0      0      0      0      0      0  \n",
       "4      0      0      0      0      0      0      0  \n",
       "\n",
       "[5 rows x 784 columns]"
      ]
     },
     "execution_count": 3,
     "metadata": {},
     "output_type": "execute_result"
    }
   ],
   "source": [
    "data.head()"
   ]
  },
  {
   "cell_type": "code",
   "execution_count": 4,
   "id": "25063a86",
   "metadata": {},
   "outputs": [
    {
     "data": {
      "text/plain": [
       "0        9999\n",
       "0.1      9999\n",
       "0.2      9999\n",
       "0.3      9999\n",
       "0.4      9999\n",
       "         ... \n",
       "0.663    9999\n",
       "0.664    9999\n",
       "0.665    9999\n",
       "0.666    9999\n",
       "0.667    9999\n",
       "Length: 784, dtype: int64"
      ]
     },
     "execution_count": 4,
     "metadata": {},
     "output_type": "execute_result"
    }
   ],
   "source": [
    "data.count()"
   ]
  },
  {
   "cell_type": "code",
   "execution_count": 5,
   "id": "6beabdfb",
   "metadata": {},
   "outputs": [],
   "source": [
    "from sklearn.model_selection import train_test_split\n",
    "train_data, test_data = train_test_split( data, test_size=0.07, random_state=42)\n",
    "train_labels, test_labels = train_test_split( labels, test_size=0.07, random_state=42)\n"
   ]
  },
  {
   "cell_type": "code",
   "execution_count": 6,
   "id": "34ca27b6",
   "metadata": {},
   "outputs": [],
   "source": [
    "class KMeans:\n",
    "    \n",
    "    def SSEcalculate(self, centroid_value_dict, centroid_dict,data):\n",
    "        ssedata = 0\n",
    "        for i in centroid_dict:\n",
    "            ssecluster = 0\n",
    "           \n",
    "            for j in centroid_dict[i]:\n",
    "                dp = list(data.iloc[int(j)])\n",
    "                for a,b in zip(centroid_value_dict[i],dp):\n",
    "                    ssecluster += (a-b)**2\n",
    "            ssedata+=ssecluster\n",
    "        return ssedata    \n",
    "    \n",
    "    def Initialize_Centroids(self,data,K):\n",
    "        m = data.shape[0]\n",
    "        centroid_value_dict={}\n",
    "        for i in range(K):\n",
    "            r = np.random.randint(0, m-1)\n",
    "            centroid_value_dict[i] = data.iloc[r]\n",
    "        return centroid_value_dict\n",
    "    \n",
    "    def jaccard_similarity(self,centroid, dp):\n",
    "        intersection = len(list(set(centroid).intersection(dp)))\n",
    "        union = (len(set(centroid)) + len(set(dp))) - intersection\n",
    "        return float(intersection) / union\n",
    "\n",
    "    def train_Kmeans(self,data,K,max_iter=20,mode=1,tol=10):\n",
    "        #Model 1 => Euclidean\n",
    "        #Model 2 => Jaccard\n",
    "        #Model 3 => Cosine\n",
    "        centroid_value_dict = self.Initialize_Centroids(data,K)\n",
    "        new_centroid_value_dict = {}\n",
    "        count = 0\n",
    "        centroid_dict = {}\n",
    "        convergence = False\n",
    "        while((count<max_iter) and not convergence):\n",
    "            for i in list(centroid_value_dict.keys()):\n",
    "                centroid_dict[i]=[]\n",
    "            for i in range(data.shape[0]):\n",
    "                x = data.iloc[i]\n",
    "                if mode==1 :\n",
    "                    distance_measure = [np.linalg.norm(x-centroid_value_dict[j])  for j in centroid_value_dict]\n",
    "                    idx = np.argmin(distance_measure)\n",
    "                    centroid_dict[idx].append(i)\n",
    "                elif mode==2 :\n",
    "                    distance_measure = [self.jaccard_similarity(list(x),centroid_value_dict[j]) for j in centroid_value_dict]\n",
    "                    idx = np.argmax(distance_measure)\n",
    "                    centroid_dict[idx].append(i)\n",
    "                elif mode==3 :\n",
    "                    distance_measure = [1-scipy.spatial.distance.cosine(x,list(centroid_value_dict[j]))  for j in centroid_value_dict]\n",
    "                    idx = np.argmax(distance_measure)\n",
    "                    centroid_dict[idx].append(i)\n",
    "                \n",
    "                prev_centroids=dict(centroid_value_dict)\n",
    "                \n",
    "            \n",
    "            for i in centroid_dict:\n",
    "                if len(centroid_dict[i]):\n",
    "                    dps_centroid = centroid_dict[i]\n",
    "                    centroid_value_dict[i] = np.average(data.iloc[dps_centroid],axis=0)\n",
    "            \n",
    "            \n",
    "            current_tol=-1\n",
    "            for i in centroid_value_dict:\n",
    "                prev_centroid_point = prev_centroids[i]\n",
    "                new_centroid_point = centroid_value_dict[i]\n",
    "                change = np.sum(np.absolute(new_centroid_point-prev_centroid_point))\n",
    "                current_tol = max(change, current_tol)\n",
    "                \n",
    "            print(\"Tolerance for Iteration\",count,\":\",current_tol)\n",
    "            \n",
    "            count+=1\n",
    "            if (current_tol<10):\n",
    "                convergence = True\n",
    "                break\n",
    "        return centroid_value_dict,centroid_dict"
   ]
  },
  {
   "cell_type": "code",
   "execution_count": 7,
   "id": "6d913617",
   "metadata": {},
   "outputs": [],
   "source": [
    "def predict_cluster_labels(C, S, labels):\n",
    "    '''\n",
    "    Input : C -> Centroids\n",
    "            S -> Set of Indicies corresponding to Centroid C\n",
    "            data -> Data used to form clusters\n",
    "    Output : Returns an array of size K having labels based on majority voting in the cluster\n",
    "    '''\n",
    "    cluster_labels = np.zeros(10,dtype=int)\n",
    "    for c in C:\n",
    "        labels_of_points = []\n",
    "        for point in S[c]:\n",
    "            labels_of_points.extend(labels.iloc[point])\n",
    "        counter = Counter(labels_of_points)\n",
    "        try:\n",
    "            cluster_labels[c] = max(counter, key=counter.get)\n",
    "        except:\n",
    "            cluster_labels[c] = np.random.randint(0,9)\n",
    "    return cluster_labels\n",
    "\n",
    "def jaccard_similarity(centroid, dp):\n",
    "        intersection = len(list(set(centroid).intersection(dp)))\n",
    "        union = (len(set(centroid)) + len(set(dp))) - intersection\n",
    "        return float(intersection) / union\n",
    "\n",
    "def accuracy(centroids, centroid_Labels, test_data, true_labels, mode=1):\n",
    "    y_true = list(true_labels['label']);\n",
    "    y_pred = []\n",
    "    for index in range(test_data.shape[0]):\n",
    "        featureset = test_data.iloc[index]\n",
    "        if mode==1:\n",
    "            distances = [np.linalg.norm(featureset - centroids[centroid]) for centroid in centroids]\n",
    "            classification = distances.index(min(distances))\n",
    "            y_pred.append(centroid_Labels[classification])\n",
    "        elif mode==2:\n",
    "            similarity = [jaccard_similarity(featureset, centroids[centroid]) for centroid in centroids]\n",
    "            classification = similarity.index(max(similarity))\n",
    "            y_pred.append(centroid_Labels[classification]) \n",
    "        elif mode==3:\n",
    "            similarity = [1 - spatial.distance.cosine(featureset, centroids[centroid]) for centroid in centroids]\n",
    "            classification = similarity.index(max(similarity))\n",
    "            y_pred.append(centroid_Labels[classification])\n",
    "    denominator = test_data.shape[0]\n",
    "    correctly_classified = 0\n",
    "    for i in range(0,len(y_pred)):\n",
    "        if y_true[i] == y_pred[i]:\n",
    "            correctly_classified += 1\n",
    "    accuracy = correctly_classified/denominator\n",
    "    return accuracy"
   ]
  },
  {
   "cell_type": "code",
   "execution_count": 8,
   "id": "b9ffb845",
   "metadata": {},
   "outputs": [
    {
     "name": "stdout",
     "output_type": "stream",
     "text": [
      "Tolerance for Iteration 0 : 25913.7807486631\n",
      "Tolerance for Iteration 1 : 6657.992029376374\n",
      "Tolerance for Iteration 2 : 3910.6614699738902\n",
      "Tolerance for Iteration 3 : 1747.3356462395545\n",
      "Tolerance for Iteration 4 : 1249.397531254945\n",
      "Tolerance for Iteration 5 : 1491.925598756513\n",
      "Tolerance for Iteration 6 : 2995.568722882608\n",
      "Tolerance for Iteration 7 : 1588.871883793466\n",
      "Tolerance for Iteration 8 : 1284.6013221820294\n",
      "Tolerance for Iteration 9 : 1635.5355727543692\n",
      "Tolerance for Iteration 10 : 1590.2092842669645\n",
      "Tolerance for Iteration 11 : 1517.0866404209755\n",
      "Tolerance for Iteration 12 : 879.5473752655369\n",
      "Tolerance for Iteration 13 : 1070.7503260869566\n",
      "Tolerance for Iteration 14 : 1136.7258333333336\n",
      "Tolerance for Iteration 15 : 1142.2128027681658\n",
      "Tolerance for Iteration 16 : 994.5812156614703\n",
      "Tolerance for Iteration 17 : 918.7510411175103\n",
      "Tolerance for Iteration 18 : 776.5528831329017\n",
      "Tolerance for Iteration 19 : 564.5697213531691\n",
      "Tolerance for Iteration 20 : 379.88241136131217\n",
      "Tolerance for Iteration 21 : 302.203812950006\n",
      "Tolerance for Iteration 22 : 297.02954105395344\n",
      "Tolerance for Iteration 23 : 151.55612995679522\n",
      "Tolerance for Iteration 24 : 141.74644910904294\n",
      "Tolerance for Iteration 25 : 114.96327503974575\n",
      "Tolerance for Iteration 26 : 84.57368185297719\n",
      "Tolerance for Iteration 27 : 83.4912526769825\n",
      "Tolerance for Iteration 28 : 58.72908141083586\n",
      "Tolerance for Iteration 29 : 139.47123161764725\n",
      "Tolerance for Iteration 30 : 144.98462332301347\n",
      "Tolerance for Iteration 31 : 104.27350851300145\n",
      "Tolerance for Iteration 32 : 90.48129717988893\n",
      "Tolerance for Iteration 33 : 124.88337453496453\n",
      "Tolerance for Iteration 34 : 110.62653709678554\n",
      "Tolerance for Iteration 35 : 53.502421823536125\n",
      "Tolerance for Iteration 36 : 60.66100179092376\n",
      "Tolerance for Iteration 37 : 42.96993023869675\n",
      "Tolerance for Iteration 38 : 40.52374822695025\n",
      "Tolerance for Iteration 39 : 32.215942005793096\n",
      "Tolerance for Iteration 40 : 37.6524268271215\n",
      "Tolerance for Iteration 41 : 34.46962025316471\n",
      "Tolerance for Iteration 42 : 19.96661704588396\n",
      "Tolerance for Iteration 43 : 0.0\n"
     ]
    }
   ],
   "source": [
    "model1 = KMeans()\n",
    "centroids1,clusters1 = model1.train_Kmeans(data,10, max_iter=60,mode=1)"
   ]
  },
  {
   "cell_type": "code",
   "execution_count": 30,
   "id": "81a4d044",
   "metadata": {},
   "outputs": [],
   "source": [
    "SSEEuclidean = model1.SSEcalculate(centroids1,clusters1,data)"
   ]
  },
  {
   "cell_type": "code",
   "execution_count": 31,
   "id": "73c3be3e",
   "metadata": {},
   "outputs": [
    {
     "name": "stdout",
     "output_type": "stream",
     "text": [
      "SSE of Euclidean: 25403417962.182713\n"
     ]
    }
   ],
   "source": [
    "print(\"SSE of Euclidean:\",SSEEuclidean)"
   ]
  },
  {
   "cell_type": "code",
   "execution_count": 32,
   "id": "6ce0bc4e",
   "metadata": {},
   "outputs": [
    {
     "data": {
      "text/plain": [
       "array([0, 5, 6, 8, 1, 9, 2, 0, 7, 3])"
      ]
     },
     "execution_count": 32,
     "metadata": {},
     "output_type": "execute_result"
    }
   ],
   "source": [
    "cluster_labels1 = predict_cluster_labels(centroids1,clusters1,labels)\n",
    "cluster_labels1"
   ]
  },
  {
   "cell_type": "code",
   "execution_count": 33,
   "id": "af8ddb97",
   "metadata": {},
   "outputs": [
    {
     "data": {
      "text/plain": [
       "0.07285714285714286"
      ]
     },
     "execution_count": 33,
     "metadata": {},
     "output_type": "execute_result"
    }
   ],
   "source": [
    "EuclideanAccuracy = accuracy(centroids1, cluster_labels1,test_data,test_labels)\n",
    "EuclideanAccuracy"
   ]
  },
  {
   "cell_type": "code",
   "execution_count": 34,
   "id": "fa8a09fa",
   "metadata": {},
   "outputs": [
    {
     "name": "stdout",
     "output_type": "stream",
     "text": [
      "Tolerance for Iteration 0 : 39012.240188383046\n",
      "Tolerance for Iteration 1 : 6727.170877222853\n",
      "Tolerance for Iteration 2 : 2268.9075610359623\n",
      "Tolerance for Iteration 3 : 1358.8530942962525\n",
      "Tolerance for Iteration 4 : 2255.9950202867585\n",
      "Tolerance for Iteration 5 : 1030.7183311797603\n",
      "Tolerance for Iteration 6 : 1337.2812332080666\n",
      "Tolerance for Iteration 7 : 1529.2528422418302\n",
      "Tolerance for Iteration 8 : 1777.1855040983187\n",
      "Tolerance for Iteration 9 : 1245.6852716583785\n",
      "Tolerance for Iteration 10 : 1033.7471833830793\n",
      "Tolerance for Iteration 11 : 975.2692704802714\n",
      "Tolerance for Iteration 12 : 413.9461673540967\n",
      "Tolerance for Iteration 13 : 420.5575771494676\n",
      "Tolerance for Iteration 14 : 0.0\n"
     ]
    }
   ],
   "source": [
    "model2 = KMeans()\n",
    "centroids2,clusters2 = model2.train_Kmeans(data,10, max_iter=50,mode=2)\n",
    "SSEJaccard = model2.SSEcalculate(centroids2,clusters2,data)"
   ]
  },
  {
   "cell_type": "code",
   "execution_count": 35,
   "id": "9ddea8ac",
   "metadata": {},
   "outputs": [
    {
     "name": "stdout",
     "output_type": "stream",
     "text": [
      "SSE of Jacard: 34361687572.938736\n"
     ]
    }
   ],
   "source": [
    "print(\"SSE of Jacard:\",SSEJaccard)"
   ]
  },
  {
   "cell_type": "code",
   "execution_count": 36,
   "id": "7eadeba7",
   "metadata": {},
   "outputs": [
    {
     "data": {
      "text/plain": [
       "array([1, 3, 1, 1, 7, 5, 7, 3, 3, 5])"
      ]
     },
     "execution_count": 36,
     "metadata": {},
     "output_type": "execute_result"
    }
   ],
   "source": [
    "cluster_labels2 = predict_cluster_labels(centroids2,clusters2,labels)\n",
    "cluster_labels2"
   ]
  },
  {
   "cell_type": "code",
   "execution_count": 37,
   "id": "da4ee64b",
   "metadata": {},
   "outputs": [
    {
     "data": {
      "text/plain": [
       "0.10857142857142857"
      ]
     },
     "execution_count": 37,
     "metadata": {},
     "output_type": "execute_result"
    }
   ],
   "source": [
    "JaccardAccuracy = accuracy(centroids2, cluster_labels2,test_data,test_labels)\n",
    "JaccardAccuracy"
   ]
  },
  {
   "cell_type": "code",
   "execution_count": 38,
   "id": "425308b0",
   "metadata": {},
   "outputs": [
    {
     "name": "stdout",
     "output_type": "stream",
     "text": [
      "Tolerance for Iteration 0 : 26023.545816733065\n",
      "Tolerance for Iteration 1 : 4750.702014415996\n",
      "Tolerance for Iteration 2 : 3831.8703405402093\n",
      "Tolerance for Iteration 3 : 4541.774698158599\n",
      "Tolerance for Iteration 4 : 2880.79211853034\n",
      "Tolerance for Iteration 5 : 1383.9025574135057\n",
      "Tolerance for Iteration 6 : 961.5543675969049\n",
      "Tolerance for Iteration 7 : 672.415553358236\n",
      "Tolerance for Iteration 8 : 608.5931590531376\n",
      "Tolerance for Iteration 9 : 433.0947794281497\n",
      "Tolerance for Iteration 10 : 342.307169612219\n",
      "Tolerance for Iteration 11 : 383.5524118225569\n",
      "Tolerance for Iteration 12 : 322.37008991683706\n",
      "Tolerance for Iteration 13 : 335.65569272976666\n",
      "Tolerance for Iteration 14 : 317.0080019043435\n",
      "Tolerance for Iteration 15 : 257.74949485638433\n",
      "Tolerance for Iteration 16 : 204.54036757284354\n",
      "Tolerance for Iteration 17 : 144.8688805839671\n",
      "Tolerance for Iteration 18 : 185.9035117822009\n",
      "Tolerance for Iteration 19 : 149.07196371127037\n",
      "Tolerance for Iteration 20 : 92.04387142093287\n",
      "Tolerance for Iteration 21 : 117.10781845919144\n",
      "Tolerance for Iteration 22 : 132.18988334953482\n",
      "Tolerance for Iteration 23 : 79.08779264214051\n",
      "Tolerance for Iteration 24 : 63.841137123745895\n",
      "Tolerance for Iteration 25 : 45.78664366638807\n",
      "Tolerance for Iteration 26 : 35.138129370138216\n",
      "Tolerance for Iteration 27 : 65.95211878249012\n",
      "Tolerance for Iteration 28 : 55.095771574961844\n",
      "Tolerance for Iteration 29 : 24.213484289212698\n",
      "Tolerance for Iteration 30 : 25.759854032887286\n",
      "Tolerance for Iteration 31 : 0.0\n"
     ]
    }
   ],
   "source": [
    "model3 = KMeans()\n",
    "centroids3,clusters3 = model3.train_Kmeans(data,10, max_iter = 60,mode=3)\n",
    "SSECosine = model3.SSEcalculate(centroids3,clusters3,data)"
   ]
  },
  {
   "cell_type": "code",
   "execution_count": 39,
   "id": "7b388f60",
   "metadata": {},
   "outputs": [
    {
     "name": "stdout",
     "output_type": "stream",
     "text": [
      "SSE of Euclidean : 25403417962.182713\n",
      "SSE of Jacard : 34361687572.938736\n",
      "SSE of Cosine : 25625283170.03969\n"
     ]
    }
   ],
   "source": [
    "print(\"SSE of Euclidean :\",SSEEuclidean)\n",
    "print(\"SSE of Jacard :\",SSEJaccard)\n",
    "print(\"SSE of Cosine :\",SSECosine)"
   ]
  },
  {
   "cell_type": "code",
   "execution_count": 40,
   "id": "fbb4982b",
   "metadata": {},
   "outputs": [
    {
     "data": {
      "text/plain": [
       "array([3, 7, 1, 0, 0, 9, 8, 2, 6, 2])"
      ]
     },
     "execution_count": 40,
     "metadata": {},
     "output_type": "execute_result"
    }
   ],
   "source": [
    "cluster_labels3 = predict_cluster_labels(centroids3,clusters3,labels)\n",
    "cluster_labels3"
   ]
  },
  {
   "cell_type": "code",
   "execution_count": 41,
   "id": "a985561e",
   "metadata": {},
   "outputs": [
    {
     "data": {
      "text/plain": [
       "0.06142857142857143"
      ]
     },
     "execution_count": 41,
     "metadata": {},
     "output_type": "execute_result"
    }
   ],
   "source": [
    "EuclideanAccuracy\n",
    "JaccardAccuracy\n",
    "CosineAccuracy = accuracy(centroids3, cluster_labels3,test_data,test_labels)\n",
    "CosineAccuracy"
   ]
  },
  {
   "cell_type": "code",
   "execution_count": 42,
   "id": "82153910",
   "metadata": {},
   "outputs": [
    {
     "name": "stdout",
     "output_type": "stream",
     "text": [
      "Euclidean accuracy: 0.07285714285714286\n",
      "Jacard accuracy: 0.10857142857142857\n",
      "Cosine accuracy : 0.06142857142857143\n"
     ]
    }
   ],
   "source": [
    "print(\"Euclidean accuracy:\",EuclideanAccuracy)\n",
    "print(\"Jacard accuracy:\",JaccardAccuracy)\n",
    "print(\"Cosine accuracy :\",CosineAccuracy)"
   ]
  }
 ],
 "metadata": {
  "kernelspec": {
   "display_name": "Python 3 (ipykernel)",
   "language": "python",
   "name": "python3"
  },
  "language_info": {
   "codemirror_mode": {
    "name": "ipython",
    "version": 3
   },
   "file_extension": ".py",
   "mimetype": "text/x-python",
   "name": "python",
   "nbconvert_exporter": "python",
   "pygments_lexer": "ipython3",
   "version": "3.9.13"
  }
 },
 "nbformat": 4,
 "nbformat_minor": 5
}
